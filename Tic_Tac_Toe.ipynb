{
 "cells": [
  {
   "cell_type": "code",
   "execution_count": 3,
   "metadata": {},
   "outputs": [
    {
     "name": "stdout",
     "output_type": "stream",
     "text": [
      "\n",
      "|   |   |   |\n",
      "|   |   |   |\n",
      "|   |   |   |\n",
      "\n"
     ]
    },
    {
     "name": "stdin",
     "output_type": "stream",
     "text": [
      "Enter your move (1-9):  3\n"
     ]
    },
    {
     "name": "stdout",
     "output_type": "stream",
     "text": [
      "Computer chooses position 1\n",
      "\n",
      "| O |   | X |\n",
      "|   |   |   |\n",
      "|   |   |   |\n",
      "\n"
     ]
    },
    {
     "name": "stdin",
     "output_type": "stream",
     "text": [
      "Enter your move (1-9):  4\n"
     ]
    },
    {
     "name": "stdout",
     "output_type": "stream",
     "text": [
      "Computer chooses position 5\n",
      "\n",
      "| O |   | X |\n",
      "| X | O |   |\n",
      "|   |   |   |\n",
      "\n"
     ]
    },
    {
     "name": "stdin",
     "output_type": "stream",
     "text": [
      "Enter your move (1-9):  9\n"
     ]
    },
    {
     "name": "stdout",
     "output_type": "stream",
     "text": [
      "Computer chooses position 6\n",
      "\n",
      "| O |   | X |\n",
      "| X | O | O |\n",
      "|   |   | X |\n",
      "\n"
     ]
    },
    {
     "name": "stdin",
     "output_type": "stream",
     "text": [
      "Enter your move (1-9):  10\n"
     ]
    },
    {
     "name": "stdout",
     "output_type": "stream",
     "text": [
      "Invalid move. Choose an empty position between 1 and 9.\n"
     ]
    },
    {
     "name": "stdin",
     "output_type": "stream",
     "text": [
      "Enter your move (1-9):  9\n"
     ]
    },
    {
     "name": "stdout",
     "output_type": "stream",
     "text": [
      "Invalid move. Choose an empty position between 1 and 9.\n"
     ]
    },
    {
     "name": "stdin",
     "output_type": "stream",
     "text": [
      "Enter your move (1-9):  8\n"
     ]
    },
    {
     "name": "stdout",
     "output_type": "stream",
     "text": [
      "Computer chooses position 7\n",
      "\n",
      "| O |   | X |\n",
      "| X | O | O |\n",
      "| O | X | X |\n",
      "\n"
     ]
    },
    {
     "name": "stdin",
     "output_type": "stream",
     "text": [
      "Enter your move (1-9):  2\n"
     ]
    },
    {
     "name": "stdout",
     "output_type": "stream",
     "text": [
      "It's a draw!\n"
     ]
    }
   ],
   "source": [
    "import random\n",
    "\n",
    "# Initialize the game board as a list with 9 empty spaces\n",
    "board = [\" \" for x in range(9)]\n",
    "\n",
    "def print_board():\n",
    "    \"\"\"Prints the current state of the Tic-Tac-Toe board.\"\"\"\n",
    "    row1 = \"| {} | {} | {} |\".format(board[0], board[1], board[2])\n",
    "    row2 = \"| {} | {} | {} |\".format(board[3], board[4], board[5])\n",
    "    row3 = \"| {} | {} | {} |\".format(board[6], board[7], board[8])\n",
    "\n",
    "    print()\n",
    "    print(row1)\n",
    "    print(row2)\n",
    "    print(row3)\n",
    "    print()\n",
    "\n",
    "def player_move():\n",
    "    \"\"\"Handles the player's move by taking input and updating the board if valid.\"\"\"\n",
    "    while True:\n",
    "        try:\n",
    "            choice = int(input(\"Enter your move (1-9): \"))\n",
    "            if 1 <= choice <= 9 and board[choice - 1] == \" \":\n",
    "                board[choice - 1] = \"X\"\n",
    "                break\n",
    "            else:\n",
    "                print(\"Invalid move. Choose an empty position between 1 and 9.\")\n",
    "        except ValueError:\n",
    "            print(\"Please enter a number between 1 and 9.\")\n",
    "\n",
    "def computer_move():\n",
    "    \"\"\"Handles the computer's move by selecting a random empty space.\"\"\"\n",
    "    available_moves = [i for i in range(9) if board[i] == \" \"]\n",
    "    if available_moves:\n",
    "        choice = random.choice(available_moves)\n",
    "        board[choice] = \"O\"\n",
    "        print(f\"Computer chooses position {choice + 1}\")\n",
    "\n",
    "def is_victory(icon):\n",
    "    \"\"\"Checks if the given player has won the game.\"\"\"\n",
    "    return (\n",
    "        (board[0] == icon and board[1] == icon and board[2] == icon) or\n",
    "        (board[3] == icon and board[4] == icon and board[5] == icon) or\n",
    "        (board[6] == icon and board[7] == icon and board[8] == icon) or\n",
    "        (board[0] == icon and board[3] == icon and board[6] == icon) or\n",
    "        (board[1] == icon and board[4] == icon and board[7] == icon) or\n",
    "        (board[2] == icon and board[5] == icon and board[8] == icon) or\n",
    "        (board[0] == icon and board[4] == icon and board[8] == icon) or\n",
    "        (board[2] == icon and board[4] == icon and board[6] == icon)\n",
    "    )\n",
    "\n",
    "def is_draw():\n",
    "    \"\"\"Checks if the game is a draw by verifying if there are no empty spaces left.\"\"\"\n",
    "    return \" \" not in board\n",
    "\n",
    "def play_game():\n",
    "    \"\"\"Handles the game loop where the player and computer take turns.\"\"\"\n",
    "    while True:\n",
    "        print_board()\n",
    "        player_move()\n",
    "        if is_victory(\"X\"):\n",
    "            print_board()\n",
    "            print(\"You win! Congratulations!\")\n",
    "            break\n",
    "        elif is_draw():\n",
    "            print(\"It's a draw!\")\n",
    "            break\n",
    "        \n",
    "        computer_move()\n",
    "        if is_victory(\"O\"):\n",
    "            print_board()\n",
    "            print(\"Computer wins! Better luck next time.\")\n",
    "            break\n",
    "        elif is_draw():\n",
    "            print(\"It's a draw!\")\n",
    "            break\n",
    "\n",
    "# Start the game\n",
    "play_game()"
   ]
  },
  {
   "cell_type": "code",
   "execution_count": null,
   "metadata": {},
   "outputs": [],
   "source": []
  }
 ],
 "metadata": {
  "kernelspec": {
   "display_name": "Python [conda env:base] *",
   "language": "python",
   "name": "conda-base-py"
  },
  "language_info": {
   "codemirror_mode": {
    "name": "ipython",
    "version": 3
   },
   "file_extension": ".py",
   "mimetype": "text/x-python",
   "name": "python",
   "nbconvert_exporter": "python",
   "pygments_lexer": "ipython3",
   "version": "3.12.7"
  }
 },
 "nbformat": 4,
 "nbformat_minor": 4
}
